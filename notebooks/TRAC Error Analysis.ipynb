{
 "cells": [
  {
   "cell_type": "code",
   "execution_count": 1,
   "metadata": {},
   "outputs": [],
   "source": [
    "import sys\n",
    "sys.path.append('../src/')"
   ]
  },
  {
   "cell_type": "code",
   "execution_count": 2,
   "metadata": {},
   "outputs": [],
   "source": [
    "import pandas as pd\n",
    "import numpy as np\n",
    "import matplotlib.pyplot as plt\n",
    "import seaborn as sns\n",
    "import random\n",
    "from argparse import Namespace\n",
    "from collections import Counter\n",
    "sns.set(style=\"darkgrid\")\n",
    "import os\n",
    "from sklearn.metrics import classification_report"
   ]
  },
  {
   "cell_type": "code",
   "execution_count": 3,
   "metadata": {},
   "outputs": [],
   "source": [
    "args = Namespace(\n",
    "        loc = '/Users/cozek/Documents/MTech/4th Sem/OffensEval/data/TREC',\n",
    "    )"
   ]
  },
  {
   "cell_type": "code",
   "execution_count": 4,
   "metadata": {
    "scrolled": true
   },
   "outputs": [
    {
     "data": {
      "text/plain": [
       "['eng',\n",
       " 'iben',\n",
       " '.DS_Store',\n",
       " 'hin',\n",
       " 'test',\n",
       " 'release',\n",
       " 'gold',\n",
       " 'hin.zip',\n",
       " 'runs',\n",
       " 'iben.zip']"
      ]
     },
     "execution_count": 4,
     "metadata": {},
     "output_type": "execute_result"
    }
   ],
   "source": [
    "os.listdir(args.loc)"
   ]
  },
  {
   "cell_type": "code",
   "execution_count": 5,
   "metadata": {},
   "outputs": [
    {
     "data": {
      "text/plain": [
       "['trac2_eng_test.csv',\n",
       " 'README.txt',\n",
       " 'trac2_iben_test.csv',\n",
       " 'trac2_hin_test.csv']"
      ]
     },
     "execution_count": 5,
     "metadata": {},
     "output_type": "execute_result"
    }
   ],
   "source": [
    "os.listdir(\n",
    "    os.path.join(args.loc,'test')\n",
    ")"
   ]
  },
  {
   "cell_type": "code",
   "execution_count": 6,
   "metadata": {},
   "outputs": [
    {
     "data": {
      "text/plain": [
       "['trac2_iben_gold_a.csv',\n",
       " 'trac2_iben_gold_b.csv',\n",
       " 'trac2_hin_gold_a.csv',\n",
       " 'trac2_eng_gold_a.csv',\n",
       " 'trac2_hin_gold_b.csv',\n",
       " 'trac2_eng_gold_b.csv']"
      ]
     },
     "execution_count": 6,
     "metadata": {},
     "output_type": "execute_result"
    }
   ],
   "source": [
    "os.listdir(\n",
    "    os.path.join(args.loc,'gold')\n",
    ")"
   ]
  },
  {
   "cell_type": "code",
   "execution_count": 7,
   "metadata": {
    "scrolled": true
   },
   "outputs": [
    {
     "data": {
      "text/plain": [
       "['hindi_task_a_preds.csv',\n",
       " 'iben_task_b_preds.csv',\n",
       " '.DS_Store',\n",
       " 'trac_task_b_eng_preds_kaushik.csv',\n",
       " 'task_a_eng_trac_labels_kaushik.csv',\n",
       " 'hindi_task_b_preds.csv',\n",
       " 'iben_task_a_preds.csv']"
      ]
     },
     "execution_count": 7,
     "metadata": {},
     "output_type": "execute_result"
    }
   ],
   "source": [
    "os.listdir(\n",
    "    os.path.join(args.loc,'runs')\n",
    ")"
   ]
  },
  {
   "cell_type": "markdown",
   "metadata": {},
   "source": [
    "# Test Sets"
   ]
  },
  {
   "cell_type": "code",
   "execution_count": 9,
   "metadata": {},
   "outputs": [],
   "source": [
    "ENG_TEST_SET = pd.read_csv(os.path.join(args.loc,'test','trac2_eng_test.csv'))\n",
    "HIN_TEST_SET = pd.read_csv(os.path.join(args.loc,'test','trac2_hin_test.csv'))\n",
    "IBEN_TEST_SET = pd.read_csv(os.path.join(args.loc,'test','trac2_iben_test.csv'))"
   ]
  },
  {
   "cell_type": "markdown",
   "metadata": {},
   "source": [
    "# Helper Functions"
   ]
  },
  {
   "cell_type": "code",
   "execution_count": 10,
   "metadata": {},
   "outputs": [],
   "source": [
    "def get_analysis(\n",
    "    gold_csv_loc:str,\n",
    "    pred_csv_loc:str,\n",
    "    test_set_df:pd.DataFrame,\n",
    "    subtask:str\n",
    "):\n",
    "    \"\"\"\n",
    "    Args:\n",
    "        gold_csv_loc: Location of gold label csv file\n",
    "        pred_csv_loc: Location of csv with predicted labels\n",
    "        test_set_df: Df containing the 'ID' and corresponding text\n",
    "        subtask: either 'a' or 'b'\n",
    "    Returns:\n",
    "        analysis_df: DF containing the columns  Text, True labels as 'true'\n",
    "            predicted labels as 'pred'\n",
    "        cross_tab: A pandas crosstab as confusion matrix\n",
    "    \"\"\"\n",
    "    gold_df = pd.read_csv(gold_csv_loc)\n",
    "    preds_df = pd.read_csv(pred_csv_loc)\n",
    "    preds_df.rename(\n",
    "        columns={'Label':'pred'},\n",
    "        inplace=True,\n",
    "    )\n",
    "    temp = pd.merge(\n",
    "        test_set_df,\n",
    "        gold_df, on='ID'\n",
    "    )\n",
    "    temp.rename(\n",
    "        columns={f'Sub-task {subtask.upper()}': 'true'},\n",
    "        inplace=True\n",
    "    )\n",
    "    analysis_df = pd.merge(temp, preds_df, on='ID')\n",
    "    cross_tab = pd.crosstab(\n",
    "        analysis_df.true , #y_true\n",
    "        analysis_df.pred , #y_pred\n",
    "        rownames=['True'], colnames=['Predicted'], margins=True\n",
    "    )\n",
    "    return analysis_df, cross_tab"
   ]
  },
  {
   "cell_type": "code",
   "execution_count": 11,
   "metadata": {},
   "outputs": [],
   "source": [
    "def print_samples(\n",
    "    analysis_df:pd.DataFrame,\n",
    "    mistakes:bool=True,\n",
    "    num_samples:int=5\n",
    ")-> None:\n",
    "    \"\"\"Prints the samples for analysis\"\"\"\n",
    "    \n",
    "    with pd.option_context('display.max_colwidth', -1): \n",
    "        if mistakes: #print misclassifications\n",
    "            df = analysis_df[analysis_df.true != analysis_df.pred]\n",
    "            [['Text','true','pred']]\n",
    "        else: #print correct classifications\n",
    "            df = analysis_df[analysis_df.true == analysis_df.pred]\n",
    "            [['Text','true','pred']]\n",
    "            \n",
    "        print(df.sample(num_samples))\n",
    "        \n",
    "        print('\\n',df['Text'].map(len).describe())"
   ]
  },
  {
   "cell_type": "markdown",
   "metadata": {},
   "source": [
    "# Eng Sub-Task A Analysis"
   ]
  },
  {
   "cell_type": "code",
   "execution_count": 12,
   "metadata": {},
   "outputs": [],
   "source": [
    "eng_a_analysis_df, eng_a_crosstab = get_analysis(\n",
    "    gold_csv_loc = os.path.join(args.loc,'gold','trac2_eng_gold_a.csv'),\n",
    "    pred_csv_loc = os.path.join(args.loc,'runs','task_a_eng_trac_labels_kaushik.csv'),\n",
    "    test_set_df = ENG_TEST_SET,\n",
    "    subtask = 'a',\n",
    ")"
   ]
  },
  {
   "cell_type": "code",
   "execution_count": 54,
   "metadata": {},
   "outputs": [
    {
     "name": "stdout",
     "output_type": "stream",
     "text": [
      "              precision    recall  f1-score   support\n",
      "\n",
      "         CAG     0.5000    0.2857    0.3636       224\n",
      "         NAG     0.7448    0.9348    0.8290       690\n",
      "         OAG     0.7718    0.5559    0.6463       286\n",
      "\n",
      "    accuracy                         0.7233      1200\n",
      "   macro avg     0.6722    0.5921    0.6130      1200\n",
      "weighted avg     0.7056    0.7233    0.6986      1200\n",
      "\n"
     ]
    }
   ],
   "source": [
    "\n",
    "print(classification_report(\n",
    "    y_true = eng_a_analysis_df.true,\n",
    "    y_pred = eng_a_analysis_df.pred,\n",
    "    digits=4,\n",
    "))"
   ]
  },
  {
   "cell_type": "code",
   "execution_count": 13,
   "metadata": {
    "scrolled": false
   },
   "outputs": [
    {
     "data": {
      "text/html": [
       "<div>\n",
       "<style scoped>\n",
       "    .dataframe tbody tr th:only-of-type {\n",
       "        vertical-align: middle;\n",
       "    }\n",
       "\n",
       "    .dataframe tbody tr th {\n",
       "        vertical-align: top;\n",
       "    }\n",
       "\n",
       "    .dataframe thead th {\n",
       "        text-align: right;\n",
       "    }\n",
       "</style>\n",
       "<table border=\"1\" class=\"dataframe\">\n",
       "  <thead>\n",
       "    <tr style=\"text-align: right;\">\n",
       "      <th></th>\n",
       "      <th>ID</th>\n",
       "      <th>Text</th>\n",
       "      <th>true</th>\n",
       "      <th>pred</th>\n",
       "    </tr>\n",
       "  </thead>\n",
       "  <tbody>\n",
       "    <tr>\n",
       "      <th>0</th>\n",
       "      <td>YoutubeCorpus37</td>\n",
       "      <td>https://www.youtube.com/watch?v=4iejjszkflo</td>\n",
       "      <td>NAG</td>\n",
       "      <td>NAG</td>\n",
       "    </tr>\n",
       "    <tr>\n",
       "      <th>1</th>\n",
       "      <td>C37.1</td>\n",
       "      <td>shame on society &amp; culture trying to justify t...</td>\n",
       "      <td>NAG</td>\n",
       "      <td>CAG</td>\n",
       "    </tr>\n",
       "    <tr>\n",
       "      <th>2</th>\n",
       "      <td>C37.2</td>\n",
       "      <td>just wanna say, there is no gay gene. you can ...</td>\n",
       "      <td>NAG</td>\n",
       "      <td>NAG</td>\n",
       "    </tr>\n",
       "    <tr>\n",
       "      <th>3</th>\n",
       "      <td>C37.3</td>\n",
       "      <td>well, if a one twin struggles with self confid...</td>\n",
       "      <td>NAG</td>\n",
       "      <td>NAG</td>\n",
       "    </tr>\n",
       "    <tr>\n",
       "      <th>4</th>\n",
       "      <td>C37.4</td>\n",
       "      <td>i am an identical twin and we are both homosex...</td>\n",
       "      <td>NAG</td>\n",
       "      <td>NAG</td>\n",
       "    </tr>\n",
       "    <tr>\n",
       "      <th>...</th>\n",
       "      <td>...</td>\n",
       "      <td>...</td>\n",
       "      <td>...</td>\n",
       "      <td>...</td>\n",
       "    </tr>\n",
       "    <tr>\n",
       "      <th>1195</th>\n",
       "      <td>C24.47.4</td>\n",
       "      <td>@hellocreep no fool you comment makes no sense...</td>\n",
       "      <td>NAG</td>\n",
       "      <td>OAG</td>\n",
       "    </tr>\n",
       "    <tr>\n",
       "      <th>1196</th>\n",
       "      <td>C24.47.5</td>\n",
       "      <td>at least cows give you milk and other dairy pr...</td>\n",
       "      <td>NAG</td>\n",
       "      <td>CAG</td>\n",
       "    </tr>\n",
       "    <tr>\n",
       "      <th>1197</th>\n",
       "      <td>C24.48</td>\n",
       "      <td>that's why law is called an ass..!</td>\n",
       "      <td>NAG</td>\n",
       "      <td>OAG</td>\n",
       "    </tr>\n",
       "    <tr>\n",
       "      <th>1198</th>\n",
       "      <td>C24.50</td>\n",
       "      <td>the feminist definition of equality - whatever...</td>\n",
       "      <td>NAG</td>\n",
       "      <td>NAG</td>\n",
       "    </tr>\n",
       "    <tr>\n",
       "      <th>1199</th>\n",
       "      <td>C24.50.1</td>\n",
       "      <td>at expense of whatever</td>\n",
       "      <td>NAG</td>\n",
       "      <td>NAG</td>\n",
       "    </tr>\n",
       "  </tbody>\n",
       "</table>\n",
       "<p>1200 rows × 4 columns</p>\n",
       "</div>"
      ],
      "text/plain": [
       "                   ID                                               Text true  \\\n",
       "0     YoutubeCorpus37        https://www.youtube.com/watch?v=4iejjszkflo  NAG   \n",
       "1               C37.1  shame on society & culture trying to justify t...  NAG   \n",
       "2               C37.2  just wanna say, there is no gay gene. you can ...  NAG   \n",
       "3               C37.3  well, if a one twin struggles with self confid...  NAG   \n",
       "4               C37.4  i am an identical twin and we are both homosex...  NAG   \n",
       "...               ...                                                ...  ...   \n",
       "1195         C24.47.4  @hellocreep no fool you comment makes no sense...  NAG   \n",
       "1196         C24.47.5  at least cows give you milk and other dairy pr...  NAG   \n",
       "1197           C24.48                 that's why law is called an ass..!  NAG   \n",
       "1198           C24.50  the feminist definition of equality - whatever...  NAG   \n",
       "1199         C24.50.1                             at expense of whatever  NAG   \n",
       "\n",
       "     pred  \n",
       "0     NAG  \n",
       "1     CAG  \n",
       "2     NAG  \n",
       "3     NAG  \n",
       "4     NAG  \n",
       "...   ...  \n",
       "1195  OAG  \n",
       "1196  CAG  \n",
       "1197  OAG  \n",
       "1198  NAG  \n",
       "1199  NAG  \n",
       "\n",
       "[1200 rows x 4 columns]"
      ]
     },
     "execution_count": 13,
     "metadata": {},
     "output_type": "execute_result"
    }
   ],
   "source": [
    "eng_a_analysis_df"
   ]
  },
  {
   "cell_type": "code",
   "execution_count": 14,
   "metadata": {},
   "outputs": [
    {
     "data": {
      "text/html": [
       "<div>\n",
       "<style scoped>\n",
       "    .dataframe tbody tr th:only-of-type {\n",
       "        vertical-align: middle;\n",
       "    }\n",
       "\n",
       "    .dataframe tbody tr th {\n",
       "        vertical-align: top;\n",
       "    }\n",
       "\n",
       "    .dataframe thead th {\n",
       "        text-align: right;\n",
       "    }\n",
       "</style>\n",
       "<table border=\"1\" class=\"dataframe\">\n",
       "  <thead>\n",
       "    <tr style=\"text-align: right;\">\n",
       "      <th></th>\n",
       "      <th>ID</th>\n",
       "      <th>Text</th>\n",
       "      <th>true</th>\n",
       "      <th>pred</th>\n",
       "    </tr>\n",
       "  </thead>\n",
       "  <tbody>\n",
       "    <tr>\n",
       "      <th>1180</th>\n",
       "      <td>C24.36</td>\n",
       "      <td>as long as women vote, they won't change this ...</td>\n",
       "      <td>NAG</td>\n",
       "      <td>NAG</td>\n",
       "    </tr>\n",
       "  </tbody>\n",
       "</table>\n",
       "</div>"
      ],
      "text/plain": [
       "          ID                                               Text true pred\n",
       "1180  C24.36  as long as women vote, they won't change this ...  NAG  NAG"
      ]
     },
     "execution_count": 14,
     "metadata": {},
     "output_type": "execute_result"
    }
   ],
   "source": [
    "eng_a_analysis_df[eng_a_analysis_df.Text==\"as long as women vote, they won't change this present situation\"]"
   ]
  },
  {
   "cell_type": "code",
   "execution_count": 15,
   "metadata": {
    "scrolled": true
   },
   "outputs": [
    {
     "data": {
      "text/html": [
       "<div>\n",
       "<style scoped>\n",
       "    .dataframe tbody tr th:only-of-type {\n",
       "        vertical-align: middle;\n",
       "    }\n",
       "\n",
       "    .dataframe tbody tr th {\n",
       "        vertical-align: top;\n",
       "    }\n",
       "\n",
       "    .dataframe thead th {\n",
       "        text-align: right;\n",
       "    }\n",
       "</style>\n",
       "<table border=\"1\" class=\"dataframe\">\n",
       "  <thead>\n",
       "    <tr style=\"text-align: right;\">\n",
       "      <th></th>\n",
       "      <th>ID</th>\n",
       "      <th>Sub-task A</th>\n",
       "    </tr>\n",
       "  </thead>\n",
       "  <tbody>\n",
       "    <tr>\n",
       "      <th>1180</th>\n",
       "      <td>C24.36</td>\n",
       "      <td>NAG</td>\n",
       "    </tr>\n",
       "  </tbody>\n",
       "</table>\n",
       "</div>"
      ],
      "text/plain": [
       "          ID Sub-task A\n",
       "1180  C24.36        NAG"
      ]
     },
     "execution_count": 15,
     "metadata": {},
     "output_type": "execute_result"
    }
   ],
   "source": [
    "_t = pd.read_csv(os.path.join(args.loc,'gold','trac2_eng_gold_a.csv'))\n",
    "_t[_t.ID=='C24.36']"
   ]
  },
  {
   "cell_type": "markdown",
   "metadata": {},
   "source": [
    "### Correct Predictions"
   ]
  },
  {
   "cell_type": "code",
   "execution_count": 16,
   "metadata": {},
   "outputs": [
    {
     "name": "stdout",
     "output_type": "stream",
     "text": [
      "           ID  \\\n",
      "914   C60.694   \n",
      "760   C8.1386   \n",
      "1120  C18.84    \n",
      "121   C52.106   \n",
      "976   C60.966   \n",
      "\n",
      "                                                                                                                                                                                                                                                                                                                                                                                                                                                                                                                                                                                                                                                                                                                                                                                                                                                                                                                                                                                                                                                                                                                                                                                                                                                                                                                                                                                                                                                                                                                                                                                                                                                                                                                                                                                                                                                                                                                                                                                                                                                                                                                                                                                                                                                                                                                                                                                                                                                                                                                                                                                                    Text  \\\n",
      "914   wos                                                                                                                                                                                                                                                                                                                                                                                                                                                                                                                                                                                                                                                                                                                                                                                                                                                                                                                                                                                                                                                                                                                                                                                                                                                                                                                                                                                                                                                                                                                                                                                                                                                                                                                                                                                                                                                                                                                                                                                                                                                                                                                                                                                                                                                                                                                                                                                                                                                                                                                                                                                                  \n",
      "760   haa bilkul sahee gavaar aurat :  \\n1\\. preeti toh 2 saal ki bachee hai ki woh uthaa kar legaya tha class and he\\nforced her right to fall in love with him.  \\n  \\n  \\n2\\. when swara was fucking vibrating herself then you hypocrites were fucking\\napplauding and the same scene where kabir singh puts ice in his pants that is\\ntoxic masculinity to you  \\n  \\n  \\n3\\. now reverese the fucking scene where he slapped her ! if preti slapped him\\n, you guys would have been applauding ki sahee kiya ! just because a man\\nslapped a woman so that apprently makes him a bad human being ! even if she\\ncheats on her partner. you know woman ! this is the fucking problem , when we\\nsay ! \" ladkiya kadam sey kadam chal rai hai mardo k \" its you guys who brings\\nin this this fucked up biased feminine shit that makes woman categorised in\\nthe weaker section of the society. if you dont are the weaker gender anymore -\\n\" why do you fucking need a coach in metros\" \" why is there a relaxation of\\ncut offs for girls in colleges\" \" why is that you guys need seats in buses\"\\ncoz you people want woman to be weak so that you guys can enjoy the luxory of\\nthe rights a woman has in this society.  \\n  \\n  \\n4\\. when preeti tells kabir to kiss him in college - you guys dint have a\\nprobelm there and or you guys dint fucking reprimanded her character why not ?\\ni ll tell you why - coz this time \" a man was saying no\" so i guess it dint\\npass your peanut sized brain that ya even that should be reprimanded.  \\n  \\n  \\n5\\. and the scene where he a\"allegedly\" tried to rape that woman over a knife\\npoint - first of all it was mutual she called him she was cheating on her\\nfiance - nobody wants to fucking highlight that right coz as a woman you can\\ndo whatever the fuck you want to right ?!  \\n  \\n  \\nall in all please broaden your mind. i hope someone reads this . when a woman\\nslaps a man its always assumed that the man must have done something wrong and\\nif a man slaps a woman then oh my god how can he do tht !!! grow up fuck face\\n! and all you feminists out there - stop trying to make a woman feel that they\\nare weak ! if you have balls to say woman are the same as men ! stop fucking\\nbeing a bunch of hypocritical fucks and try to prove deliberetly that they are\\nweak ! its become a joke these days ! fucking feminists !  \\n  \\n  \\noh by the way - where do you reviews go when something of similar kinds is\\nshown on shows like game of thrones, dexter, sacred games ? lol you guys make\\nme laugh   \n",
      "1120  big fan of akshaye                                                                                                                                                                                                                                                                                                                                                                                                                                                                                                                                                                                                                                                                                                                                                                                                                                                                                                                                                                                                                                                                                                                                                                                                                                                                                                                                                                                                                                                                                                                                                                                                                                                                                                                                                                                                                                                                                                                                                                                                                                                                                                                                                                                                                                                                                                                                                                                                                                                                                                                                                                                   \n",
      "121   so bad                                                                                                                                                                                                                                                                                                                                                                                                                                                                                                                                                                                                                                                                                                                                                                                                                                                                                                                                                                                                                                                                                                                                                                                                                                                                                                                                                                                                                                                                                                                                                                                                                                                                                                                                                                                                                                                                                                                                                                                                                                                                                                                                                                                                                                                                                                                                                                                                                                                                                                                                                                                               \n",
      "976   soob noster gora oi aninda .. :d                                                                                                                                                                                                                                                                                                                                                                                                                                                                                                                                                                                                                                                                                                                                                                                                                                                                                                                                                                                                                                                                                                                                                                                                                                                                                                                                                                                                                                                                                                                                                                                                                                                                                                                                                                                                                                                                                                                                                                                                                                                                                                                                                                                                                                                                                                                                                                                                                                                                                                                                                                     \n",
      "\n",
      "     true pred  \n",
      "914   NAG  NAG  \n",
      "760   OAG  OAG  \n",
      "1120  NAG  NAG  \n",
      "121   NAG  NAG  \n",
      "976   NAG  NAG  \n",
      "\n",
      " count    868.000000 \n",
      "mean     130.002304 \n",
      "std      264.521291 \n",
      "min      1.000000   \n",
      "25%      10.000000  \n",
      "50%      33.000000  \n",
      "75%      146.000000 \n",
      "max      3034.000000\n",
      "Name: Text, dtype: float64\n"
     ]
    }
   ],
   "source": [
    "print_samples(\n",
    "    analysis_df = eng_a_analysis_df,\n",
    "    mistakes = False,\n",
    "    num_samples =5\n",
    ")"
   ]
  },
  {
   "cell_type": "markdown",
   "metadata": {},
   "source": [
    "### Incorrect Predictions"
   ]
  },
  {
   "cell_type": "code",
   "execution_count": 17,
   "metadata": {},
   "outputs": [
    {
     "name": "stdout",
     "output_type": "stream",
     "text": [
      "            ID  \\\n",
      "331   C24.142    \n",
      "764   C8.2151    \n",
      "333   C24.147    \n",
      "579   C24.1334   \n",
      "1148  C24.10     \n",
      "\n",
      "                                                                                                                                                                                                                                                                                                                                                                                                                                                                                                                                                                                                                                                            Text  \\\n",
      "331   i don't even stand near the ladies line in busses or in public transport 🙏  \\neven if a lady sits by my side i get up and get to another seat where there's\\na man sitting 🙏  \\ni stay as far and cautious as much i can.  \\njust 1 shout from a lady that you touched her on an inappropriate place, dude\\nyou're gone, even if you didn't do anything, the so called pseudo female\\nprotectors will beat you up like hell and the police won't listen to you until\\nyou win it in a court case.  \\n🙏  \\nthe law won't save you, there won't be new laws in men's favour or anything\\nlike equality to both genders. you just have to save yourself.  \\n🙏   \n",
      "764   comparing your review of veere di wedding ( worst review ever )  \\n  \\ngirls are allowed to fuck with guys' life in the name of love but guys aren't\\neven allowed to love a girl unconditionally  \\n  \\ngirls are allowed to judge men on looks and guys shouldn't do that as it hurts\\ngirls' self esteem  \\n  \\ngirls are allowed to slap guys  \\nand it's good that they are standing up for themselves  \\nbut guys shouldn't slap girls  \\nkiara slaps shahid multiple times and it's not mentioned  \\nshahid slaps kiara once and it's noticed  \\n  \\nladkiya kare to chalega  \\nladke kare to nai chalega  \\naisa kaisa chalega didi ?...             \n",
      "333   even a case is of my own home, my cousin's wife stole all gold worth 20lacs n\\nran out at night with a boy who was brother of my another cousin's wife . she\\ndid a spray in all over the house to make all ppl unconscious, she didn't even\\nspare her 6 month old daughter.!!!!  \\nshame!!!  \\nbeing a girl, i must say,\\n[#supporthumanitythanfeminism](http://www.youtube.com/results?search_query=%23supporthumanitythanfeminism)!!!  \\neverything would b crystal clear.                                                                                                                                                                               \n",
      "579   teach not only boys but also ur girls how to behave, not all boys are rapist\\nand not all girls are innocent. respect human not gender.                                                                                                                                                                                                                                                                                                                                                                                                                                                                                                                      \n",
      "1148  that's why india is a shit motherfucking country                                                                                                                                                                                                                                                                                                                                                                                                                                                                                                                                                                                                             \n",
      "\n",
      "     true pred  \n",
      "331   CAG  NAG  \n",
      "764   OAG  NAG  \n",
      "333   OAG  NAG  \n",
      "579   CAG  NAG  \n",
      "1148  NAG  OAG  \n",
      "\n",
      " count    332.000000 \n",
      "mean     474.370482 \n",
      "std      699.023240 \n",
      "min      5.000000   \n",
      "25%      166.500000 \n",
      "50%      282.500000 \n",
      "75%      507.500000 \n",
      "max      7412.000000\n",
      "Name: Text, dtype: float64\n"
     ]
    }
   ],
   "source": [
    "print_samples(\n",
    "    analysis_df = eng_a_analysis_df,\n",
    "    mistakes = True,\n",
    "    num_samples = 5\n",
    ")"
   ]
  },
  {
   "cell_type": "code",
   "execution_count": 18,
   "metadata": {},
   "outputs": [
    {
     "data": {
      "image/png": "[encoded data removed]",
      "text/plain": [
       "<Figure size 432x432 with 2 Axes>"
      ]
     },
     "metadata": {
      "needs_background": "light"
     },
     "output_type": "display_data"
    }
   ],
   "source": [
    "with sns.plotting_context('notebook',font_scale=1.6):\n",
    "    f, ax = plt.subplots(figsize=(6, 6))\n",
    "    ax = sns.heatmap(\n",
    "        eng_a_crosstab,\n",
    "        annot=True,\n",
    "        fmt=\"d\", \n",
    "        cmap= 'Blues',\n",
    "        annot_kws={\"size\": 20},\n",
    "    )\n",
    "    f.savefig(\n",
    "        'confmats/eng_a_confmat.eps', format='eps', dpi=600\n",
    "    )"
   ]
  },
  {
   "cell_type": "markdown",
   "metadata": {},
   "source": [
    "# Eng Sub-Task B Analysis"
   ]
  },
  {
   "cell_type": "code",
   "execution_count": 20,
   "metadata": {},
   "outputs": [],
   "source": [
    "eng_b_analysis_df, eng_b_crosstab = get_analysis(\n",
    "    gold_csv_loc = os.path.join(args.loc,'gold','trac2_eng_gold_b.csv'),\n",
    "    pred_csv_loc = os.path.join(args.loc,'runs','trac_task_b_eng_preds_kaushik.csv'),\n",
    "    test_set_df = ENG_TEST_SET,\n",
    "    subtask = 'b',\n",
    ")\n",
    "    "
   ]
  },
  {
   "cell_type": "code",
   "execution_count": 55,
   "metadata": {},
   "outputs": [
    {
     "name": "stdout",
     "output_type": "stream",
     "text": [
      "              precision    recall  f1-score   support\n",
      "\n",
      "         GEN     0.5409    0.4914    0.5150       175\n",
      "        NGEN     0.9145    0.9288    0.9216      1025\n",
      "\n",
      "    accuracy                         0.8650      1200\n",
      "   macro avg     0.7277    0.7101    0.7183      1200\n",
      "weighted avg     0.8600    0.8650    0.8623      1200\n",
      "\n"
     ]
    }
   ],
   "source": [
    "\n",
    "print(classification_report(\n",
    "    y_true = eng_b_analysis_df.true,\n",
    "    y_pred = eng_b_analysis_df.pred,\n",
    "    digits=4,\n",
    "))"
   ]
  },
  {
   "cell_type": "code",
   "execution_count": 21,
   "metadata": {
    "scrolled": false
   },
   "outputs": [
    {
     "data": {
      "text/html": [
       "<div>\n",
       "<style scoped>\n",
       "    .dataframe tbody tr th:only-of-type {\n",
       "        vertical-align: middle;\n",
       "    }\n",
       "\n",
       "    .dataframe tbody tr th {\n",
       "        vertical-align: top;\n",
       "    }\n",
       "\n",
       "    .dataframe thead th {\n",
       "        text-align: right;\n",
       "    }\n",
       "</style>\n",
       "<table border=\"1\" class=\"dataframe\">\n",
       "  <thead>\n",
       "    <tr style=\"text-align: right;\">\n",
       "      <th></th>\n",
       "      <th>ID</th>\n",
       "      <th>Text</th>\n",
       "      <th>true</th>\n",
       "      <th>pred</th>\n",
       "    </tr>\n",
       "  </thead>\n",
       "  <tbody>\n",
       "    <tr>\n",
       "      <th>0</th>\n",
       "      <td>YoutubeCorpus37</td>\n",
       "      <td>https://www.youtube.com/watch?v=4iejjszkflo</td>\n",
       "      <td>NGEN</td>\n",
       "      <td>NGEN</td>\n",
       "    </tr>\n",
       "    <tr>\n",
       "      <th>1</th>\n",
       "      <td>C37.1</td>\n",
       "      <td>shame on society &amp; culture trying to justify t...</td>\n",
       "      <td>NGEN</td>\n",
       "      <td>NGEN</td>\n",
       "    </tr>\n",
       "    <tr>\n",
       "      <th>2</th>\n",
       "      <td>C37.2</td>\n",
       "      <td>just wanna say, there is no gay gene. you can ...</td>\n",
       "      <td>NGEN</td>\n",
       "      <td>NGEN</td>\n",
       "    </tr>\n",
       "    <tr>\n",
       "      <th>3</th>\n",
       "      <td>C37.3</td>\n",
       "      <td>well, if a one twin struggles with self confid...</td>\n",
       "      <td>NGEN</td>\n",
       "      <td>NGEN</td>\n",
       "    </tr>\n",
       "    <tr>\n",
       "      <th>4</th>\n",
       "      <td>C37.4</td>\n",
       "      <td>i am an identical twin and we are both homosex...</td>\n",
       "      <td>NGEN</td>\n",
       "      <td>GEN</td>\n",
       "    </tr>\n",
       "    <tr>\n",
       "      <th>...</th>\n",
       "      <td>...</td>\n",
       "      <td>...</td>\n",
       "      <td>...</td>\n",
       "      <td>...</td>\n",
       "    </tr>\n",
       "    <tr>\n",
       "      <th>1195</th>\n",
       "      <td>C24.47.4</td>\n",
       "      <td>@hellocreep no fool you comment makes no sense...</td>\n",
       "      <td>NGEN</td>\n",
       "      <td>NGEN</td>\n",
       "    </tr>\n",
       "    <tr>\n",
       "      <th>1196</th>\n",
       "      <td>C24.47.5</td>\n",
       "      <td>at least cows give you milk and other dairy pr...</td>\n",
       "      <td>NGEN</td>\n",
       "      <td>NGEN</td>\n",
       "    </tr>\n",
       "    <tr>\n",
       "      <th>1197</th>\n",
       "      <td>C24.48</td>\n",
       "      <td>that's why law is called an ass..!</td>\n",
       "      <td>NGEN</td>\n",
       "      <td>NGEN</td>\n",
       "    </tr>\n",
       "    <tr>\n",
       "      <th>1198</th>\n",
       "      <td>C24.50</td>\n",
       "      <td>the feminist definition of equality - whatever...</td>\n",
       "      <td>NGEN</td>\n",
       "      <td>NGEN</td>\n",
       "    </tr>\n",
       "    <tr>\n",
       "      <th>1199</th>\n",
       "      <td>C24.50.1</td>\n",
       "      <td>at expense of whatever</td>\n",
       "      <td>NGEN</td>\n",
       "      <td>NGEN</td>\n",
       "    </tr>\n",
       "  </tbody>\n",
       "</table>\n",
       "<p>1200 rows × 4 columns</p>\n",
       "</div>"
      ],
      "text/plain": [
       "                   ID                                               Text  \\\n",
       "0     YoutubeCorpus37        https://www.youtube.com/watch?v=4iejjszkflo   \n",
       "1               C37.1  shame on society & culture trying to justify t...   \n",
       "2               C37.2  just wanna say, there is no gay gene. you can ...   \n",
       "3               C37.3  well, if a one twin struggles with self confid...   \n",
       "4               C37.4  i am an identical twin and we are both homosex...   \n",
       "...               ...                                                ...   \n",
       "1195         C24.47.4  @hellocreep no fool you comment makes no sense...   \n",
       "1196         C24.47.5  at least cows give you milk and other dairy pr...   \n",
       "1197           C24.48                 that's why law is called an ass..!   \n",
       "1198           C24.50  the feminist definition of equality - whatever...   \n",
       "1199         C24.50.1                             at expense of whatever   \n",
       "\n",
       "      true  pred  \n",
       "0     NGEN  NGEN  \n",
       "1     NGEN  NGEN  \n",
       "2     NGEN  NGEN  \n",
       "3     NGEN  NGEN  \n",
       "4     NGEN   GEN  \n",
       "...    ...   ...  \n",
       "1195  NGEN  NGEN  \n",
       "1196  NGEN  NGEN  \n",
       "1197  NGEN  NGEN  \n",
       "1198  NGEN  NGEN  \n",
       "1199  NGEN  NGEN  \n",
       "\n",
       "[1200 rows x 4 columns]"
      ]
     },
     "execution_count": 21,
     "metadata": {},
     "output_type": "execute_result"
    }
   ],
   "source": [
    "eng_b_analysis_df"
   ]
  },
  {
   "cell_type": "markdown",
   "metadata": {},
   "source": [
    "### Correct Predictions"
   ]
  },
  {
   "cell_type": "code",
   "execution_count": 22,
   "metadata": {},
   "outputs": [
    {
     "name": "stdout",
     "output_type": "stream",
     "text": [
      "             ID  \\\n",
      "37    C37.15      \n",
      "471   C24.786.5   \n",
      "356   C24.222     \n",
      "1064  C18.43      \n",
      "620   C24.1691    \n",
      "\n",
      "                                                                                                                                                      Text  \\\n",
      "37    interrupting the pulitzer prize winning author? you dumbo burkha                                                                                       \n",
      "471   @sid chawla  \\nfeminism =slut empowerment phase 2  \\ntraditionalism =slut empowerment phase 1                                                          \n",
      "356   2.1k people, who dislike it, are feminists 😊                                                                                                           \n",
      "1064  such a fine actor by his own instinct 👏👏👏👏                                                                                                             \n",
      "620   i think only 5% women /girls miss use this think.  \\nmostly i have seen india's sons fault they see all girls with bad things use\\nmany wrong words.   \n",
      "\n",
      "      true  pred  \n",
      "37    NGEN  NGEN  \n",
      "471   NGEN  NGEN  \n",
      "356   NGEN  NGEN  \n",
      "1064  NGEN  NGEN  \n",
      "620   NGEN  NGEN  \n",
      "\n",
      " count    1038.000000\n",
      "mean     158.447977 \n",
      "std      296.398619 \n",
      "min      1.000000   \n",
      "25%      13.000000  \n",
      "50%      51.000000  \n",
      "75%      219.750000 \n",
      "max      5870.000000\n",
      "Name: Text, dtype: float64\n"
     ]
    }
   ],
   "source": [
    "print_samples(\n",
    "    analysis_df = eng_b_analysis_df,\n",
    "    mistakes = False,\n",
    "    num_samples =5\n",
    ")"
   ]
  },
  {
   "cell_type": "markdown",
   "metadata": {},
   "source": [
    "### Incorrect Predictions"
   ]
  },
  {
   "cell_type": "code",
   "execution_count": 23,
   "metadata": {},
   "outputs": [
    {
     "name": "stdout",
     "output_type": "stream",
     "text": [
      "             ID  \\\n",
      "519  C24.1036.1   \n",
      "524  C24.1050     \n",
      "645  C24.1900     \n",
      "7    C37.5        \n",
      "525  C24.1051     \n",
      "\n",
      "                                                                                                                                                                                                                                                                         Text  \\\n",
      "519  yes worldwide women misuse their gender, their beauty and charm to manipulate\\nmen. if that also doesn't work, they open up their bra, show off their\\ncleavage and make moves to attract men into submission. this is a bitter truth\\nthat society doesn't acknowledge.   \n",
      "524  fuck women pussies mercilessly                                                                                                                                                                                                                                             \n",
      "645  fucking librandus..                                                                                                                                                                                                                                                        \n",
      "7    just imagine if this world has gays that love to suck always! not designed by\\ncreator but reprogrammed by the devil. destructive culture that will destroy\\nhuman societies!                                                                                              \n",
      "525  this is the truth about todays femnism .....womens are spiling life of so many\\nmens today by fallsely accusing them. fuck this type of femnism..                                                                                                                          \n",
      "\n",
      "     true pred  \n",
      "519  NGEN  GEN  \n",
      "524  NGEN  GEN  \n",
      "645  NGEN  GEN  \n",
      "7    NGEN  GEN  \n",
      "525  NGEN  GEN  \n",
      "\n",
      " count    162.000000 \n",
      "mean     653.481481 \n",
      "std      882.680750 \n",
      "min      5.000000   \n",
      "25%      141.000000 \n",
      "50%      366.500000 \n",
      "75%      727.000000 \n",
      "max      7412.000000\n",
      "Name: Text, dtype: float64\n"
     ]
    }
   ],
   "source": [
    "print_samples(\n",
    "    analysis_df = eng_b_analysis_df,\n",
    "    mistakes = True,\n",
    "    num_samples =5\n",
    ")"
   ]
  },
  {
   "cell_type": "code",
   "execution_count": 24,
   "metadata": {},
   "outputs": [
    {
     "data": {
      "image/png": "[encoded data removed]",
      "text/plain": [
       "<Figure size 432x432 with 2 Axes>"
      ]
     },
     "metadata": {
      "needs_background": "light"
     },
     "output_type": "display_data"
    }
   ],
   "source": [
    "with sns.plotting_context('notebook',font_scale=1.6):\n",
    "    f, ax = plt.subplots(figsize=(6, 6))\n",
    "    ax = sns.heatmap(\n",
    "        eng_b_crosstab,\n",
    "        annot=True,\n",
    "        fmt=\"d\", \n",
    "        cmap= 'Blues',\n",
    "        annot_kws={\"size\": 20},\n",
    "    )\n",
    "    f.savefig(\n",
    "        'confmats/eng_b_confmat.eps', format='eps', dpi=600\n",
    "    )"
   ]
  },
  {
   "cell_type": "markdown",
   "metadata": {},
   "source": [
    "# Hindi Sub-Task A Analysis"
   ]
  },
  {
   "cell_type": "code",
   "execution_count": 26,
   "metadata": {},
   "outputs": [],
   "source": [
    "hin_a_analysis_df, hin_a_crosstab = get_analysis(\n",
    "    gold_csv_loc = os.path.join(args.loc,'gold','trac2_hin_gold_a.csv'),\n",
    "    pred_csv_loc = os.path.join(args.loc,'runs','hindi_task_a_preds.csv'),\n",
    "    test_set_df = HIN_TEST_SET,\n",
    "    subtask = 'a',\n",
    ")\n",
    "    "
   ]
  },
  {
   "cell_type": "code",
   "execution_count": 56,
   "metadata": {},
   "outputs": [
    {
     "name": "stdout",
     "output_type": "stream",
     "text": [
      "              precision    recall  f1-score   support\n",
      "\n",
      "         CAG     0.5025    0.5288    0.5153       191\n",
      "         NAG     0.7159    0.7908    0.7515       325\n",
      "         OAG     0.9203    0.8611    0.8897       684\n",
      "\n",
      "    accuracy                         0.7892      1200\n",
      "   macro avg     0.7129    0.7269    0.7188      1200\n",
      "weighted avg     0.7984    0.7892    0.7927      1200\n",
      "\n"
     ]
    }
   ],
   "source": [
    "\n",
    "print(classification_report(\n",
    "    y_true = hin_a_analysis_df.true,\n",
    "    y_pred = hin_a_analysis_df.pred,\n",
    "    digits=4,\n",
    "))"
   ]
  },
  {
   "cell_type": "markdown",
   "metadata": {},
   "source": [
    "### Correctly classified"
   ]
  },
  {
   "cell_type": "code",
   "execution_count": 27,
   "metadata": {},
   "outputs": [
    {
     "name": "stdout",
     "output_type": "stream",
     "text": [
      "            ID  \\\n",
      "583   C24.3674   \n",
      "586   C24.3744   \n",
      "211   C24.978    \n",
      "935   C8.2547    \n",
      "1099  C8.4148    \n",
      "\n",
      "                                                                                                            Text  \\\n",
      "583   377 dislikes wale randi k gand mai garam loha                                                                \n",
      "586   feminism ka galat upyog ho raha hai                                                                          \n",
      "211   यहाँ तो साबित होने से पहले न्यूज़ पेपर में लड़के का नाम आ जाता है                                              \n",
      "935   bhag teri maa ki chut..bhag ja yt se..yaha mat haag..jute jaise mu wali..yt pe\\nhaag k gandagi mat faila..   \n",
      "1099  didi tumhari maa ka bhosda :)                                                                                \n",
      "\n",
      "     true pred  \n",
      "583   OAG  OAG  \n",
      "586   CAG  CAG  \n",
      "211   NAG  NAG  \n",
      "935   OAG  OAG  \n",
      "1099  OAG  OAG  \n",
      "\n",
      " count    947.000000 \n",
      "mean     117.600845 \n",
      "std      186.663316 \n",
      "min      2.000000   \n",
      "25%      33.000000  \n",
      "50%      62.000000  \n",
      "75%      128.000000 \n",
      "max      2907.000000\n",
      "Name: Text, dtype: float64\n"
     ]
    }
   ],
   "source": [
    "print_samples(\n",
    "    analysis_df = hin_a_analysis_df,\n",
    "    mistakes = False,\n",
    "    num_samples =5\n",
    ")"
   ]
  },
  {
   "cell_type": "markdown",
   "metadata": {},
   "source": [
    "### Incorrectly classified"
   ]
  },
  {
   "cell_type": "code",
   "execution_count": 28,
   "metadata": {},
   "outputs": [
    {
     "name": "stdout",
     "output_type": "stream",
     "text": [
      "             ID  \\\n",
      "109  C24.368      \n",
      "458  C24.2411.1   \n",
      "68   C24.104.4    \n",
      "662  C24.4750.4   \n",
      "634  C24.4323     \n",
      "\n",
      "                                                                                                                                                                                                                                                                                                                                                                                                                                                        Text  \\\n",
      "109  😂😂😂😂... जैसी करनी वैसी भरनी। कभी पुरुष बलवान था आज लेडी बलवान है।                                                                                                                                                                                                                                                                                                                                                                                         \n",
      "458  ye whi log hai jo aise jhootey cases krte hai                                                                                                                                                                                                                                                                                                                                                                                                             \n",
      "68   acha ta aa chus le mera ek baar                                                                                                                                                                                                                                                                                                                                                                                                                           \n",
      "662  @d m there is nothing related with extra marital affair, we are talking about\\nfake rape and dowry allegations which indian girls do on their hubby's, kisi k\\nchehre pe innocent ka tag ni lga hota h , if someone will say ki mera\\nrelationship accha chal rha h mere bf ya husband k sath that doesn't mean ki\\naage chalke bi sb kuch will be same kaun kb apna rang badal le future me kuch\\nthk ni h that's why now we need to beware of women's   \n",
      "634  kya yar kch ladkiyo ki wajah se ab innocent ladkiyo p bhi trust ni hoga kisiko\\n...it's sad , pta ni ladkiyon ko ho kya gya h                                                                                                                                                                                                                                                                                                                             \n",
      "\n",
      "    true pred  \n",
      "109  NAG  CAG  \n",
      "458  NAG  CAG  \n",
      "68   OAG  NAG  \n",
      "662  NAG  CAG  \n",
      "634  NAG  CAG  \n",
      "\n",
      " count    253.000000 \n",
      "mean     150.458498 \n",
      "std      191.280261 \n",
      "min      7.000000   \n",
      "25%      61.000000  \n",
      "50%      113.000000 \n",
      "75%      189.000000 \n",
      "max      2525.000000\n",
      "Name: Text, dtype: float64\n"
     ]
    }
   ],
   "source": [
    "print_samples(\n",
    "    analysis_df = hin_a_analysis_df,\n",
    "    mistakes = True,\n",
    "    num_samples =5\n",
    ")"
   ]
  },
  {
   "cell_type": "code",
   "execution_count": 29,
   "metadata": {},
   "outputs": [
    {
     "data": {
      "image/png": "[encoded data removed]",
      "text/plain": [
       "<Figure size 432x432 with 2 Axes>"
      ]
     },
     "metadata": {
      "needs_background": "light"
     },
     "output_type": "display_data"
    }
   ],
   "source": [
    "with sns.plotting_context('notebook',font_scale=1.6):\n",
    "    f, ax = plt.subplots(figsize=(6, 6))\n",
    "    ax = sns.heatmap(\n",
    "        hin_a_crosstab,\n",
    "        annot=True,\n",
    "        fmt=\"d\", \n",
    "        cmap= 'Blues',\n",
    "        annot_kws={\"size\": 20},\n",
    "    )\n",
    "    f.savefig(\n",
    "        'confmats/hin_a_confmat.eps', format='eps', dpi=600\n",
    "    )"
   ]
  },
  {
   "cell_type": "markdown",
   "metadata": {},
   "source": [
    "# Hindi Sub-Task B Analysis"
   ]
  },
  {
   "cell_type": "code",
   "execution_count": 30,
   "metadata": {},
   "outputs": [],
   "source": [
    "hin_b_analysis_df, hin_b_crosstab = get_analysis(\n",
    "    gold_csv_loc = os.path.join(args.loc,'gold','trac2_hin_gold_b.csv'),\n",
    "    pred_csv_loc = os.path.join(args.loc,'runs','hindi_task_b_preds.csv'),\n",
    "    test_set_df = HIN_TEST_SET,\n",
    "    subtask = 'b',\n",
    ")\n",
    "    "
   ]
  },
  {
   "cell_type": "code",
   "execution_count": 57,
   "metadata": {},
   "outputs": [
    {
     "name": "stdout",
     "output_type": "stream",
     "text": [
      "              precision    recall  f1-score   support\n",
      "\n",
      "         GEN     0.8825    0.8342    0.8577       567\n",
      "        NGEN     0.8584    0.9005    0.8790       633\n",
      "\n",
      "    accuracy                         0.8692      1200\n",
      "   macro avg     0.8704    0.8673    0.8683      1200\n",
      "weighted avg     0.8698    0.8692    0.8689      1200\n",
      "\n"
     ]
    }
   ],
   "source": [
    "\n",
    "print(classification_report(\n",
    "    y_true = hin_b_analysis_df.true,\n",
    "    y_pred = hin_b_analysis_df.pred,\n",
    "    digits=4,\n",
    "))"
   ]
  },
  {
   "cell_type": "markdown",
   "metadata": {},
   "source": [
    "# Correctly classified"
   ]
  },
  {
   "cell_type": "code",
   "execution_count": 31,
   "metadata": {},
   "outputs": [
    {
     "name": "stdout",
     "output_type": "stream",
     "text": [
      "             ID  \\\n",
      "946   C8.2681     \n",
      "1166  C8.4649     \n",
      "19    C60.543     \n",
      "1138  C8.4396     \n",
      "135   C24.531.3   \n",
      "\n",
      "                                                                                         Text  \\\n",
      "946   fucking fake feminist  \\nnikal lav**i pehli fursat me nikal koi jarurat nahi teri idhar   \n",
      "1166  teri chut chodni hai babu                                                                 \n",
      "19    nice video  \\njio group  \\npati dil rani didi ke                                          \n",
      "1138  madarchod gand marbha aur apne bhap sa pouh ki kya galti kar de                           \n",
      "135   @dhananjay r hunasgi arre bole toh haan...didnt u read my reply                           \n",
      "\n",
      "      true  pred  \n",
      "946   GEN   GEN   \n",
      "1166  GEN   GEN   \n",
      "19    NGEN  NGEN  \n",
      "1138  GEN   GEN   \n",
      "135   NGEN  NGEN  \n",
      "\n",
      " count    1043.000000\n",
      "mean     116.627996 \n",
      "std      170.236128 \n",
      "min      2.000000   \n",
      "25%      35.000000  \n",
      "50%      66.000000  \n",
      "75%      134.500000 \n",
      "max      2907.000000\n",
      "Name: Text, dtype: float64\n"
     ]
    }
   ],
   "source": [
    "print_samples(\n",
    "    analysis_df = hin_b_analysis_df,\n",
    "    mistakes = False,\n",
    "    num_samples =5\n",
    ")"
   ]
  },
  {
   "cell_type": "markdown",
   "metadata": {},
   "source": [
    "# Incorrectly classified"
   ]
  },
  {
   "cell_type": "code",
   "execution_count": 32,
   "metadata": {
    "scrolled": false
   },
   "outputs": [
    {
     "name": "stdout",
     "output_type": "stream",
     "text": [
      "           ID  \\\n",
      "592  C24.3839   \n",
      "454  C24.2400   \n",
      "767  C8.620     \n",
      "553  C24.3389   \n",
      "163  C24.701    \n",
      "\n",
      "                                                                                                                                                                                                                                                                                                                                                                                                                                                                                                                                                                                                                                                                                                                                                                                                                                                                                                                                                                                                                                                                                          Text  \\\n",
      "592  eise false case yadhi koyi randi daaldiya tho kuch seedha jaavo uske ghar\\nmaaro goli poori family ko seeda jaavo murder case mei weise bhi jail jaana\\nhei tho eise jaavo                                                                                                                                                                                                                                                                                                                                                                                                                                                                                                                                                                                                                                                                                                                                                                                                                                                                                                                  \n",
      "454  womaniya type logon ki gand jali😂🤣😂                                                                                                                                                                                                                                                                                                                                                                                                                                                                                                                                                                                                                                                                                                                                                                                                                                                                                                                                                                                                                                                         \n",
      "767  haa ye movie se jhaal lggya or what about veere di weeding ? pants me baraf\\ndaala to ye tharki or usme jo masterbation or sab chutyapa bhara pada h woh\\nsahi waah re betichod ? bohot bhayank dogli ho yr tumlog or jhaat hindi nei\\naati kya tumlog ko haa lawda rhti yaha p ho but bhasa english hona chaye ekdum\\n......behen bahar hi citizenship lelo badi feminist banti ho tumlog ha jhat\\nyhi sab chakkar mai toh aaj desh piche h lawda kaam dhanda kro or karne do\\nlogg ko faaltu chiz logo me promote na kro .... hr waqt lawda ek hi baat k men\\nwomen are equal women can do anything that men can do abe jhaat itna hi\\nequality chahye na toh jao border m jaakr guns lekr khadi hojao fir dekhta hun\\nequality kaha dhukta h ?abe hum maante h women are equal to men  \\nbut not in everything har kisi ka apna jgah h apna mukaam h or hum isme maante\\nh pr shayad tum jhaatu log is baat ko nei maanti ho or shayad tumhe shak v h k\\nwomen and men are equal isliye toh itna is mudde p bhawkti ho hum nei baat\\nkrte ispr kyu ki hum jaante h that they are equal   \n",
      "553  nenu chappena law gorinchi ruler committee ,rulers aluchinkotaru...  \\nandulu nuvvu chesidi yemi ledu... kabbatti ...nuvvu benga padalsina avasaram\\nledu                                                                                                                                                                                                                                                                                                                                                                                                                                                                                                                                                                                                                                                                                                                                                                                                                                                                                                                                   \n",
      "163  i m man..ek bat mai janta hu ke dunia me sb chijo ki do side hoti hai..ek\\nacchi or buri  \\ndunia me ajtk aurto pe bahot atyachar hue qk wo kamjor hai or kamojoro pe pe\\natyachar to hote hi hai..  \\njinke sath atyachar hue unki ginti anginat hai  \\npar aaj kuch 100-200 admio ko may b jhut me fasaya gaya ho to uspe filme or\\nandolan hore..  \\naj hum sb ko pata hai k hamare khud ghar pe pass chauk me tk ladkia safe nai h\\nbachapan se har ek mard unka fayda uthane k lie taiyar baitha hota hai  \\nacchi bate krk usko fasane k lie ready rhta hai taki uska use kr sake  \\nor jo madarchod log h basti k majnu woto koi kasar nai chodte ladkio ki jindgi\\nkharab krne me..  \\nye sb sahan krk b aaj wo apne ghar chalati,kam krti, pati ki mar khati , rat\\nko pati ko khush krti marji ho ya na ho..  \\nbhale hi kuch aurato ne iska galat fayda uthaya ho pr ye unk mukable kafi kam\\nh jinko roj ye sb sahan krna padta                                                                                                                                                 \n",
      "\n",
      "     true  pred  \n",
      "592  NGEN  GEN   \n",
      "454  NGEN  GEN   \n",
      "767  GEN   NGEN  \n",
      "553  GEN   NGEN  \n",
      "163  GEN   NGEN  \n",
      "\n",
      " count    157.000000 \n",
      "mean     177.012739 \n",
      "std      273.888687 \n",
      "min      11.000000  \n",
      "25%      43.000000  \n",
      "50%      96.000000  \n",
      "75%      191.000000 \n",
      "max      2525.000000\n",
      "Name: Text, dtype: float64\n"
     ]
    }
   ],
   "source": [
    "print_samples(\n",
    "    analysis_df = hin_b_analysis_df,\n",
    "    mistakes = True,\n",
    "    num_samples =5\n",
    ")"
   ]
  },
  {
   "cell_type": "code",
   "execution_count": 33,
   "metadata": {},
   "outputs": [
    {
     "data": {
      "image/png": "[encoded data removed]",
      "text/plain": [
       "<Figure size 432x432 with 2 Axes>"
      ]
     },
     "metadata": {
      "needs_background": "light"
     },
     "output_type": "display_data"
    }
   ],
   "source": [
    "with sns.plotting_context('notebook',font_scale=1.6):\n",
    "    f, ax = plt.subplots(figsize=(6, 6))\n",
    "    ax = sns.heatmap(\n",
    "        hin_b_crosstab,\n",
    "        annot=True,\n",
    "        fmt=\"d\", \n",
    "        cmap= 'Blues',\n",
    "        annot_kws={\"size\": 20},\n",
    "    )\n",
    "    f.savefig(\n",
    "        'confmats/hin_b_confmat.eps', format='eps', dpi=600\n",
    "    )"
   ]
  },
  {
   "cell_type": "markdown",
   "metadata": {},
   "source": [
    "# Bengali Sub-Task A Analysis"
   ]
  },
  {
   "cell_type": "code",
   "execution_count": 34,
   "metadata": {},
   "outputs": [],
   "source": [
    "iben_a_analysis_df, iben_a_crosstab = get_analysis(\n",
    "    gold_csv_loc = os.path.join(args.loc,'gold','trac2_iben_gold_a.csv'),\n",
    "    pred_csv_loc = os.path.join(args.loc,'runs','iben_task_a_preds.csv'),\n",
    "    test_set_df = IBEN_TEST_SET,\n",
    "    subtask = 'a',\n"
   ]
  },
  {
   "cell_type": "code",
   "execution_count": 58,
   "metadata": {},
   "outputs": [
    {
     "name": "stdout",
     "output_type": "stream",
     "text": [
      "              precision    recall  f1-score   support\n",
      "\n",
      "         CAG     0.6053    0.5111    0.5542       225\n",
      "         NAG     0.8446    0.9087    0.8755       712\n",
      "         OAG     0.7802    0.7211    0.7495       251\n",
      "\n",
      "    accuracy                         0.7938      1188\n",
      "   macro avg     0.7434    0.7136    0.7264      1188\n",
      "weighted avg     0.7857    0.7938    0.7880      1188\n",
      "\n"
     ]
    }
   ],
   "source": [
    "print(classification_report(\n",
    "    y_true = iben_a_analysis_df.true,\n",
    "    y_pred = iben_a_analysis_df.pred,\n",
    "    digits=4,\n",
    "))"
   ]
  },
  {
   "cell_type": "markdown",
   "metadata": {},
   "source": [
    "# Correctly classified"
   ]
  },
  {
   "cell_type": "code",
   "execution_count": 35,
   "metadata": {},
   "outputs": [
    {
     "name": "stdout",
     "output_type": "stream",
     "text": [
      "            ID  \\\n",
      "369   C60.308    \n",
      "615   C8.12276   \n",
      "1163  C60.1011   \n",
      "180   C60.54     \n",
      "998   C60.782    \n",
      "\n",
      "                                                                     Text  \\\n",
      "369   dada er por tomar gaan viral hbe 🤭🤭                                   \n",
      "615   randi                                                                 \n",
      "1163  😁😁ata last te video banale ata to kat agei bananor katha boss😁😁😍😍😍😍   \n",
      "180   btw tomar hasi ta khub sundor 🤓                                       \n",
      "998   0 tka hiro hoa atto poriborton  \\nsotti ucit na.                      \n",
      "\n",
      "     true pred  \n",
      "369   NAG  NAG  \n",
      "615   OAG  OAG  \n",
      "1163  NAG  NAG  \n",
      "180   NAG  NAG  \n",
      "998   CAG  CAG  \n",
      "\n",
      " count    943.000000\n",
      "mean     36.625663 \n",
      "std      45.776491 \n",
      "min      1.000000  \n",
      "25%      13.000000 \n",
      "50%      23.000000 \n",
      "75%      44.000000 \n",
      "max      625.000000\n",
      "Name: Text, dtype: float64\n"
     ]
    }
   ],
   "source": [
    "print_samples(\n",
    "    analysis_df = iben_a_analysis_df,\n",
    "    mistakes = False,\n",
    "    num_samples =5\n",
    ")"
   ]
  },
  {
   "cell_type": "markdown",
   "metadata": {},
   "source": [
    "# Incorrectly classified"
   ]
  },
  {
   "cell_type": "code",
   "execution_count": 36,
   "metadata": {},
   "outputs": [
    {
     "name": "stdout",
     "output_type": "stream",
     "text": [
      "             ID  \\\n",
      "459   C60.717     \n",
      "1013  C60.805     \n",
      "132   C53.9       \n",
      "597   C8.9767.1   \n",
      "573   C8.7353     \n",
      "\n",
      "                                                                                              Text  \\\n",
      "459   rani didir chorbi hoya acha                                                                    \n",
      "1013  ai jonno bole..nijer somman nijer hate..mittha bolte bolte ja khusi bolche\\nmohila..           \n",
      "132   ki ruchi. ma baba thekeo jeno mara geche. just 9th e pore hardly 15 16 hobe. r\\nei age i b.a   \n",
      "597   pînky khanky narsimha venghayi                                                                 \n",
      "573   faltu feminist                                                                                 \n",
      "\n",
      "     true pred  \n",
      "459   CAG  OAG  \n",
      "1013  CAG  OAG  \n",
      "132   OAG  NAG  \n",
      "597   NAG  OAG  \n",
      "573   CAG  OAG  \n",
      "\n",
      " count    245.000000\n",
      "mean     62.138776 \n",
      "std      68.474875 \n",
      "min      4.000000  \n",
      "25%      21.000000 \n",
      "50%      39.000000 \n",
      "75%      73.000000 \n",
      "max      471.000000\n",
      "Name: Text, dtype: float64\n"
     ]
    }
   ],
   "source": [
    "print_samples(\n",
    "    analysis_df = iben_a_analysis_df,\n",
    "    mistakes = True,\n",
    "    num_samples =5\n",
    ")"
   ]
  },
  {
   "cell_type": "code",
   "execution_count": 37,
   "metadata": {},
   "outputs": [
    {
     "data": {
      "image/png": "[encoded data removed]",
      "text/plain": [
       "<Figure size 432x432 with 2 Axes>"
      ]
     },
     "metadata": {
      "needs_background": "light"
     },
     "output_type": "display_data"
    }
   ],
   "source": [
    "with sns.plotting_context('notebook',font_scale=1.6):\n",
    "    f, ax = plt.subplots(figsize=(6, 6))\n",
    "    ax = sns.heatmap(\n",
    "        iben_a_crosstab,\n",
    "        annot=True,\n",
    "        fmt=\"d\", \n",
    "        cmap= 'Blues',\n",
    "        annot_kws={\"size\": 20},\n",
    "    )\n",
    "    f.savefig(\n",
    "        'confmats/iben_a_confmat.eps', format='eps', dpi=600\n",
    "    )"
   ]
  },
  {
   "cell_type": "markdown",
   "metadata": {},
   "source": [
    "# Bengali Sub-Task B Analysis"
   ]
  },
  {
   "cell_type": "code",
   "execution_count": 38,
   "metadata": {},
   "outputs": [],
   "source": [
    "iben_b_analysis_df, iben_b_crosstab = get_analysis(\n",
    "    gold_csv_loc = os.path.join(args.loc,'gold','trac2_iben_gold_b.csv'),\n",
    "    pred_csv_loc = os.path.join(args.loc,'runs','iben_task_b_preds.csv'),\n",
    "    test_set_df = IBEN_TEST_SET,\n",
    "    subtask = 'b',\n",
    ")"
   ]
  },
  {
   "cell_type": "code",
   "execution_count": 59,
   "metadata": {},
   "outputs": [
    {
     "name": "stdout",
     "output_type": "stream",
     "text": [
      "              precision    recall  f1-score   support\n",
      "\n",
      "         GEN     0.7315    0.7822    0.7560       202\n",
      "        NGEN     0.9547    0.9412    0.9479       986\n",
      "\n",
      "    accuracy                         0.9141      1188\n",
      "   macro avg     0.8431    0.8617    0.8519      1188\n",
      "weighted avg     0.9168    0.9141    0.9153      1188\n",
      "\n"
     ]
    }
   ],
   "source": [
    "print(classification_report(\n",
    "    y_true = iben_b_analysis_df.true,\n",
    "    y_pred = iben_b_analysis_df.pred,\n",
    "    digits=4,\n",
    "))"
   ]
  },
  {
   "cell_type": "markdown",
   "metadata": {},
   "source": [
    "## Correctly classified"
   ]
  },
  {
   "cell_type": "code",
   "execution_count": 39,
   "metadata": {},
   "outputs": [
    {
     "name": "stdout",
     "output_type": "stream",
     "text": [
      "           ID                                                 Text  true  pred\n",
      "1131  C60.967  last kotha gulo darun dada 🤗🤗..  \\nvideo ta darun☺☺  NGEN  NGEN\n",
      "1064  C60.874  darun hoyeche                                        NGEN  NGEN\n",
      "979   C60.757  da bhai carry on 👍👍                                  NGEN  NGEN\n",
      "272   C60.176  ranu pagli chilo r pagli tahkbe                      NGEN  NGEN\n",
      "732   C16.185  sasti copy...pagli chudi                             GEN   GEN \n",
      "\n",
      " count    1086.000000\n",
      "mean     41.186004  \n",
      "std      52.744357  \n",
      "min      1.000000   \n",
      "25%      14.000000  \n",
      "50%      25.000000  \n",
      "75%      49.000000  \n",
      "max      625.000000 \n",
      "Name: Text, dtype: float64\n"
     ]
    }
   ],
   "source": [
    "print_samples(\n",
    "    analysis_df = iben_b_analysis_df,\n",
    "    mistakes = False,\n",
    "    num_samples =5\n",
    ")"
   ]
  },
  {
   "cell_type": "markdown",
   "metadata": {},
   "source": [
    "## Incorrectly classified"
   ]
  },
  {
   "cell_type": "code",
   "execution_count": 50,
   "metadata": {},
   "outputs": [
    {
     "name": "stdout",
     "output_type": "stream",
     "text": [
      "           ID  \\\n",
      "545  C8.5110    \n",
      "861  C60.590    \n",
      "471  C60.827    \n",
      "551  C8.5579    \n",
      "505  C24.1623   \n",
      "\n",
      "                                                                                                       Text  \\\n",
      "545  randii bhenkilodi                                                                                        \n",
      "861  chotto chele ekhane ki bollo plz see <https://youtu.be/4ihwv0pwcdg>                                      \n",
      "471  aii dom htik aiii bal take amar ager jaygate ferea deo r paro to aro aro video\\nkoro aii bal take niye   \n",
      "551  gand maraooo 🍑🍑                                                                                          \n",
      "505  madarchood fake case walo ke                                                                             \n",
      "\n",
      "     true  pred  \n",
      "545  GEN   NGEN  \n",
      "861  NGEN  GEN   \n",
      "471  NGEN  GEN   \n",
      "551  GEN   NGEN  \n",
      "505  GEN   NGEN  \n",
      "\n",
      " count    102.000000\n",
      "mean     49.352941 \n",
      "std      46.666215 \n",
      "min      8.000000  \n",
      "25%      15.000000 \n",
      "50%      33.000000 \n",
      "75%      63.750000 \n",
      "max      253.000000\n",
      "Name: Text, dtype: float64\n"
     ]
    }
   ],
   "source": [
    "print_samples(\n",
    "    analysis_df = iben_b_analysis_df,\n",
    "    mistakes = True,\n",
    "    num_samples = 5,  \n",
    ")"
   ]
  },
  {
   "cell_type": "code",
   "execution_count": 48,
   "metadata": {},
   "outputs": [
    {
     "data": {
      "image/png": "[encoded data removed]",
      "text/plain": [
       "<Figure size 432x432 with 2 Axes>"
      ]
     },
     "metadata": {},
     "output_type": "display_data"
    }
   ],
   "source": [
    "with sns.plotting_context('notebook',font_scale=1.6):\n",
    "    f, ax = plt.subplots(figsize=(6, 6))\n",
    "    ax = sns.heatmap(\n",
    "        iben_b_crosstab,\n",
    "        annot=True,\n",
    "        fmt=\"d\", \n",
    "        cmap= 'Blues',\n",
    "        annot_kws={\"size\": 20},\n",
    "    )\n",
    "    f.savefig(\n",
    "        'confmats/iben_b_confmat.eps', format='eps', dpi=600\n",
    "    )"
   ]
  },
  {
   "cell_type": "code",
   "execution_count": null,
   "metadata": {},
   "outputs": [],
   "source": []
  }
 ],
 "metadata": {
  "kernelspec": {
   "display_name": "Python 3",
   "language": "python",
   "name": "python3"
  },
  "language_info": {
   "codemirror_mode": {
    "name": "ipython",
    "version": 3
   },
   "file_extension": ".py",
   "mimetype": "text/x-python",
   "name": "python",
   "nbconvert_exporter": "python",
   "pygments_lexer": "ipython3",
   "version": "3.7.0"
  }
 },
 "nbformat": 4,
 "nbformat_minor": 2
}
